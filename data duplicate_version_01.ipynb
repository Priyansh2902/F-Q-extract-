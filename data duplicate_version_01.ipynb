{
 "cells": [
  {
   "cell_type": "code",
   "execution_count": 1,
   "id": "9b83d10d-b3a7-4bf9-a14a-ec916eed83c8",
   "metadata": {},
   "outputs": [],
   "source": [
    "import pandas as pd\n",
    "import re\n",
    "    "
   ]
  },
  {
   "cell_type": "code",
   "execution_count": 8,
   "id": "cbf67d18-11a0-482a-a913-256d8040d14f",
   "metadata": {},
   "outputs": [
    {
     "name": "stdout",
     "output_type": "stream",
     "text": [
      "                              keyword                                                                                                                                                                                                         url                                                                       title\n",
      "0                     AI in marketing                                                                                               https://www.quora.com/Can-AI-marketing-tools-benefit-me-even-with-limited-resources-as-a-small-business-owner                    Can AI marketing tools benefit me, even with limited ...\n",
      "1                     AI in marketing                                                                                                                                       https://www.quora.com/How-can-AI-prompts-improve-marketing-strategies                            How can AI prompts improve marketing strategies?\n",
      "2                     AI in marketing                                                                                                                         https://www.quora.com/What-are-emerging-career-roles-in-AI-driven-digital-marketing                     What are emerging career roles in AI-driven digital ...\n",
      "3                     AI in marketing                                                                                                                          https://www.quora.com/What-are-the-latest-trends-in-performance-marketing-for-2025                 What are the latest trends in performance marketing for ...\n",
      "4                     AI in marketing                                                                                                                             https://www.quora.com/How-can-businesses-stay-ahead-in-digital-marketing-trends                  How can businesses stay ahead in digital marketing trends?\n",
      "5                     AI in marketing                                                                                                                                           https://www.quora.com/What-is-the-best-niche-in-digital-marketing                                What is the best niche in digital marketing?\n",
      "6                     AI in marketing                                                                                                                  https://www.quora.com/What-are-some-good-resources-for-a-product-manager-to-learn-about-AI                   What are some good resources for a product manager to ...\n",
      "7                     AI in marketing                                                                                        https://www.quora.com/Which-institutes-provide-courses-on-Digital-marketing-analytics-in-Bangalore-Any-reviews#!n=18                   Which institutes provide courses on Digital marketing ...\n",
      "8                     AI in marketing                                                                                                                                                     https://www.quora.com/Who-is-a-digital-marketing-expert                                          Who is a digital marketing expert?\n",
      "9                     AI in marketing                                                                                                          https://www.quora.com/What-are-the-qualifications-to-do-digital-marketing-course?top_ans=147009462                 What are the qualifications to do digital marketing course?\n",
      "10                    AI in marketing                                                                                                                        https://www.quora.com/What-are-the-benefits-of-doing-an-MBA-after-a-BBA-in-marketing                       What are the benefits of doing an MBA after a BBA ...\n",
      "11                    AI in marketing                                                                                                                             https://www.quora.com/How-good-is-the-marketing-launchpad-program-by-Kraftshala                          How good is the marketing launchpad program by ...\n",
      "12                    AI in marketing                                                                                                                     https://www.quora.com/How-can-I-achieve-earnings-from-digital-marketing-in-a-short-time               How to achieve earnings from digital marketing in a short ...\n",
      "13                    AI in marketing                                https://www.quora.com/How-can-the-rise-in-the-voice-activated-search-be-used-by-emerging-businesses-to-disrupt-those-with-solid-organic-exposure-or-larger-marketing-budgets               How can the rise in the voice-activated search be used by ...\n",
      "14                  Grow blog traffic                                                       https://www.quora.com/How-does-one-generate-traffic-for-his-her-blog-Whats-the-best-way-to-bring-in-readership-and-grow-viewership-of-your-blog-posts                  How does one generate traffic for his/her blog? What's ...\n",
      "15                  Grow blog traffic                                                                                                                         https://www.quora.com/How-do-I-increase-website-traffic-on-SEMrush?top_ans=50419599                                  How to increase website traffic on SEMrush\n",
      "16                  Grow blog traffic                                                                                                                                                           https://www.quora.com/How-can-I-rank-blog-traffic                                                    How to rank blog traffic\n",
      "17                  Grow blog traffic                                                                                                             https://www.quora.com/How-do-I-generate-massive-traffic-easily-and-quickly-with-zero-investment                 How to generate massive traffic easily and quickly with ...\n",
      "18                  Grow blog traffic                                                                                                                                       https://www.quora.com/Why-should-we-hire-you-for-running-Facebook-ads                            Why should we hire you for running Facebook ads?\n",
      "19      How to grow LinkedIn audience                                           https://graphicdesigncontentspace.quora.com/Hi-Im-collins-a-passionate-and-results-driven-freelancer-and-digital-marketer-with-expertise-in-graphic-design-brandi  Hi, I'm collins a passionate and results-driven freelancer and digital ...\n",
      "20  Marketing strategies for startups                                                                                                                https://www.quora.com/What-is-the-best-strategy-for-building-an-online-presence-for-startups               What is the best strategy for building an online presence ...\n",
      "21  Marketing strategies for startups                                                                            https://www.quora.com/What-are-the-most-effective-digital-marketing-strategies-for-small-businesses-with-limited-budgets-in-2023            What are the most effective digital marketing strategies for ...\n",
      "22  Marketing strategies for startups                                                                  https://www.quora.com/Education-Startups-What-are-some-marketing-strategies-that-work-well-to-promote-a-product-to-teachers-and-professors                  Education Startups: What are some marketing strategies ...\n",
      "23  Marketing strategies for startups                                                                                                      https://www.quora.com/What-strategies-are-you-using-in-2021-to-promote-a-new-business?top_ans=70914682                  What strategies are you using in 2021 to promote a new ...\n",
      "24  Marketing strategies for startups                                                                                                   https://www.quora.com/What-are-the-best-online-marketing-tactics-to-grow-the-daily-active-users-of-an-app            What are the best online marketing tactics to grow the daily ...\n",
      "25  Marketing strategies for startups                                                                                                     https://www.quora.com/What-are-the-most-effective-digital-marketing-strategies-for-healthcare-providers            What are the most effective digital marketing strategies for ...\n",
      "26  Marketing strategies for startups                                                                                                                              https://www.quora.com/What-are-best-content-marketing-strategies-ideas-of-2019                 What are best content marketing strategies & ideas of 2019?\n",
      "27  Marketing strategies for startups  https://www.quora.com/How-can-a-small-business-in-Chennai-use-digital-marketing-to-grow-and-attract-more-customers-What-are-some-recommended-starting-points-for-implementing-digital-marketing-strategies               How can a small business in Chennai use digital marketing ...\n",
      "28  Marketing strategies for startups                                                                          https://www.quora.com/How-can-one-get-a-list-of-email-ids-of-people-living-in-New-Delhi-for-a-marketing-campaign-of-my-new-startup             How can one get a list of email-ids of people living in New ...\n",
      "29  Marketing strategies for startups                                                                                                                         https://www.quora.com/Should-I-learn-the-course-of-digital-marketing-or-photography                       Should I learn the course of digital marketing or ...\n",
      "30  Marketing strategies for startups                                                                                                                   https://www.quora.com/Which-is-the-best-Google-AdWords-marketer-in-India?top_ans=48718675                          Which is the best Google AdWords company in India?\n",
      "31  Marketing strategies for startups                                                                https://www.quora.com/Can-I-know-which-is-the-best-digital-marketing-institute-in-Pune-for-3-4-months-short-term-course-with-fees-around-30k             Can I know which is the best digital marketing institute in ...\n"
     ]
    }
   ],
   "source": [
    "df = pd.read_csv(r\"C:\\Users\\priya\\OneDrive\\Desktop\\Project\\dataset_quora-email_2025-06-10_15-49-46-158.csv\")\n",
    "print(df.to_string()) \n",
    "\n"
   ]
  },
  {
   "cell_type": "code",
   "execution_count": 9,
   "id": "50af6d87-eef8-4d99-aa04-7e28148ab2ee",
   "metadata": {},
   "outputs": [
    {
     "name": "stdout",
     "output_type": "stream",
     "text": [
      "0     False\n",
      "1     False\n",
      "2     False\n",
      "3     False\n",
      "4     False\n",
      "5     False\n",
      "6     False\n",
      "7     False\n",
      "8     False\n",
      "9     False\n",
      "10    False\n",
      "11    False\n",
      "12    False\n",
      "13    False\n",
      "14    False\n",
      "15    False\n",
      "16    False\n",
      "17    False\n",
      "18    False\n",
      "19    False\n",
      "20    False\n",
      "21    False\n",
      "22    False\n",
      "23    False\n",
      "24    False\n",
      "25    False\n",
      "26    False\n",
      "27    False\n",
      "28    False\n",
      "29    False\n",
      "30    False\n",
      "31    False\n",
      "dtype: bool\n"
     ]
    }
   ],
   "source": [
    "print(df.duplicated())"
   ]
  },
  {
   "cell_type": "code",
   "execution_count": 13,
   "id": "96d7d419-29e4-4833-bc21-209451a6e399",
   "metadata": {},
   "outputs": [
    {
     "name": "stdout",
     "output_type": "stream",
     "text": [
      "                              keyword                                                                                                                                                                                                         url                                                                       title\n",
      "0                     AI in marketing                                                                                               https://www.quora.com/Can-AI-marketing-tools-benefit-me-even-with-limited-resources-as-a-small-business-owner                    Can AI marketing tools benefit me, even with limited ...\n",
      "1                     AI in marketing                                                                                                                                       https://www.quora.com/How-can-AI-prompts-improve-marketing-strategies                            How can AI prompts improve marketing strategies?\n",
      "2                     AI in marketing                                                                                                                         https://www.quora.com/What-are-emerging-career-roles-in-AI-driven-digital-marketing                     What are emerging career roles in AI-driven digital ...\n",
      "3                     AI in marketing                                                                                                                          https://www.quora.com/What-are-the-latest-trends-in-performance-marketing-for-2025                 What are the latest trends in performance marketing for ...\n",
      "4                     AI in marketing                                                                                                                             https://www.quora.com/How-can-businesses-stay-ahead-in-digital-marketing-trends                  How can businesses stay ahead in digital marketing trends?\n",
      "5                     AI in marketing                                                                                                                                           https://www.quora.com/What-is-the-best-niche-in-digital-marketing                                What is the best niche in digital marketing?\n",
      "6                     AI in marketing                                                                                                                  https://www.quora.com/What-are-some-good-resources-for-a-product-manager-to-learn-about-AI                   What are some good resources for a product manager to ...\n",
      "7                     AI in marketing                                                                                        https://www.quora.com/Which-institutes-provide-courses-on-Digital-marketing-analytics-in-Bangalore-Any-reviews#!n=18                   Which institutes provide courses on Digital marketing ...\n",
      "8                     AI in marketing                                                                                                                                                     https://www.quora.com/Who-is-a-digital-marketing-expert                                          Who is a digital marketing expert?\n",
      "9                     AI in marketing                                                                                                          https://www.quora.com/What-are-the-qualifications-to-do-digital-marketing-course?top_ans=147009462                 What are the qualifications to do digital marketing course?\n",
      "10                    AI in marketing                                                                                                                        https://www.quora.com/What-are-the-benefits-of-doing-an-MBA-after-a-BBA-in-marketing                       What are the benefits of doing an MBA after a BBA ...\n",
      "11                    AI in marketing                                                                                                                             https://www.quora.com/How-good-is-the-marketing-launchpad-program-by-Kraftshala                          How good is the marketing launchpad program by ...\n",
      "12                    AI in marketing                                                                                                                     https://www.quora.com/How-can-I-achieve-earnings-from-digital-marketing-in-a-short-time               How to achieve earnings from digital marketing in a short ...\n",
      "13                    AI in marketing                                https://www.quora.com/How-can-the-rise-in-the-voice-activated-search-be-used-by-emerging-businesses-to-disrupt-those-with-solid-organic-exposure-or-larger-marketing-budgets               How can the rise in the voice-activated search be used by ...\n",
      "14                  Grow blog traffic                                                       https://www.quora.com/How-does-one-generate-traffic-for-his-her-blog-Whats-the-best-way-to-bring-in-readership-and-grow-viewership-of-your-blog-posts                  How does one generate traffic for his/her blog? What's ...\n",
      "15                  Grow blog traffic                                                                                                                         https://www.quora.com/How-do-I-increase-website-traffic-on-SEMrush?top_ans=50419599                                  How to increase website traffic on SEMrush\n",
      "16                  Grow blog traffic                                                                                                                                                           https://www.quora.com/How-can-I-rank-blog-traffic                                                    How to rank blog traffic\n",
      "17                  Grow blog traffic                                                                                                             https://www.quora.com/How-do-I-generate-massive-traffic-easily-and-quickly-with-zero-investment                 How to generate massive traffic easily and quickly with ...\n",
      "18                  Grow blog traffic                                                                                                                                       https://www.quora.com/Why-should-we-hire-you-for-running-Facebook-ads                            Why should we hire you for running Facebook ads?\n",
      "19      How to grow LinkedIn audience                                           https://graphicdesigncontentspace.quora.com/Hi-Im-collins-a-passionate-and-results-driven-freelancer-and-digital-marketer-with-expertise-in-graphic-design-brandi  Hi, I'm collins a passionate and results-driven freelancer and digital ...\n",
      "20  Marketing strategies for startups                                                                                                                https://www.quora.com/What-is-the-best-strategy-for-building-an-online-presence-for-startups               What is the best strategy for building an online presence ...\n",
      "21  Marketing strategies for startups                                                                            https://www.quora.com/What-are-the-most-effective-digital-marketing-strategies-for-small-businesses-with-limited-budgets-in-2023            What are the most effective digital marketing strategies for ...\n",
      "22  Marketing strategies for startups                                                                  https://www.quora.com/Education-Startups-What-are-some-marketing-strategies-that-work-well-to-promote-a-product-to-teachers-and-professors                  Education Startups: What are some marketing strategies ...\n",
      "23  Marketing strategies for startups                                                                                                      https://www.quora.com/What-strategies-are-you-using-in-2021-to-promote-a-new-business?top_ans=70914682                  What strategies are you using in 2021 to promote a new ...\n",
      "24  Marketing strategies for startups                                                                                                   https://www.quora.com/What-are-the-best-online-marketing-tactics-to-grow-the-daily-active-users-of-an-app            What are the best online marketing tactics to grow the daily ...\n",
      "25  Marketing strategies for startups                                                                                                     https://www.quora.com/What-are-the-most-effective-digital-marketing-strategies-for-healthcare-providers            What are the most effective digital marketing strategies for ...\n",
      "26  Marketing strategies for startups                                                                                                                              https://www.quora.com/What-are-best-content-marketing-strategies-ideas-of-2019                 What are best content marketing strategies & ideas of 2019?\n",
      "27  Marketing strategies for startups  https://www.quora.com/How-can-a-small-business-in-Chennai-use-digital-marketing-to-grow-and-attract-more-customers-What-are-some-recommended-starting-points-for-implementing-digital-marketing-strategies               How can a small business in Chennai use digital marketing ...\n",
      "28  Marketing strategies for startups                                                                          https://www.quora.com/How-can-one-get-a-list-of-email-ids-of-people-living-in-New-Delhi-for-a-marketing-campaign-of-my-new-startup             How can one get a list of email-ids of people living in New ...\n",
      "29  Marketing strategies for startups                                                                                                                         https://www.quora.com/Should-I-learn-the-course-of-digital-marketing-or-photography                       Should I learn the course of digital marketing or ...\n",
      "30  Marketing strategies for startups                                                                                                                   https://www.quora.com/Which-is-the-best-Google-AdWords-marketer-in-India?top_ans=48718675                          Which is the best Google AdWords company in India?\n",
      "31  Marketing strategies for startups                                                                https://www.quora.com/Can-I-know-which-is-the-best-digital-marketing-institute-in-Pune-for-3-4-months-short-term-course-with-fees-around-30k             Can I know which is the best digital marketing institute in ...\n"
     ]
    }
   ],
   "source": [
    "df.drop_duplicates(inplace = True)\n",
    "print(df.to_string())"
   ]
  },
  {
   "cell_type": "code",
   "execution_count": null,
   "id": "222a5db6-78e0-4ef3-8b7a-c5e17d3c7f9b",
   "metadata": {},
   "outputs": [],
   "source": []
  }
 ],
 "metadata": {
  "kernelspec": {
   "display_name": "Python 3 (ipykernel)",
   "language": "python",
   "name": "python3"
  },
  "language_info": {
   "codemirror_mode": {
    "name": "ipython",
    "version": 3
   },
   "file_extension": ".py",
   "mimetype": "text/x-python",
   "name": "python",
   "nbconvert_exporter": "python",
   "pygments_lexer": "ipython3",
   "version": "3.13.5"
  }
 },
 "nbformat": 4,
 "nbformat_minor": 5
}
