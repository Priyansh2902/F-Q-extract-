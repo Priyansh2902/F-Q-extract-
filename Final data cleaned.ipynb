{
 "cells": [
  {
   "cell_type": "code",
   "execution_count": 9,
   "id": "24f413e4-4b67-4a64-9787-bbd774f68948",
   "metadata": {},
   "outputs": [],
   "source": [
    "#Required Libraries\n",
    "\n",
    "# o\n",
    "\n",
    "import pandas as pd\n",
    "import re\n",
    "import os\n",
    "import nltk\n",
    "\n",
    "from nltk.corpus import stopwords\n",
    "    "
   ]
  },
  {
   "cell_type": "code",
   "execution_count": null,
   "id": "254be5e6-8e2a-4f2f-bc70-baa2f2c8e4f4",
   "metadata": {},
   "outputs": [],
   "source": []
  },
  {
   "cell_type": "markdown",
   "id": "7331e686-7cbf-4fc6-872b-cde6b77e3d81",
   "metadata": {},
   "source": [
    "1. put original column.\n",
    "2. add new column. 1. for key word 2. for title\n",
    "3. drop duplicates function will come at last.\n",
    "4. \n",
    "\n",
    "\n",
    "\n",
    "    "
   ]
  },
  {
   "cell_type": "code",
   "execution_count": 10,
   "id": "f8786345-5161-4fb1-8e88-1dd850026da3",
   "metadata": {},
   "outputs": [
    {
     "name": "stdout",
     "output_type": "stream",
     "text": [
      "           keyword                                                url  \\\n",
      "0  AI in marketing  https://www.quora.com/Can-AI-marketing-tools-b...   \n",
      "1  AI in marketing  https://www.quora.com/How-can-AI-prompts-impro...   \n",
      "2  AI in marketing  https://www.quora.com/What-are-emerging-career...   \n",
      "3  AI in marketing  https://www.quora.com/What-are-the-latest-tren...   \n",
      "4  AI in marketing  https://www.quora.com/How-can-businesses-stay-...   \n",
      "\n",
      "                                               title  \n",
      "0  Can AI marketing tools benefit me, even with l...  \n",
      "1   How can AI prompts improve marketing strategies?  \n",
      "2  What are emerging career roles in AI-driven di...  \n",
      "3  What are the latest trends in performance mark...  \n",
      "4  How can businesses stay ahead in digital marke...  \n",
      "(150, 3)\n",
      "<bound method DataFrame.info of                             keyword  \\\n",
      "0                   AI in marketing   \n",
      "1                   AI in marketing   \n",
      "2                   AI in marketing   \n",
      "3                   AI in marketing   \n",
      "4                   AI in marketing   \n",
      "..                              ...   \n",
      "145       AI for content generation   \n",
      "146  Marketing automation platforms   \n",
      "147  Marketing automation platforms   \n",
      "148  Marketing automation platforms   \n",
      "149  Marketing automation platforms   \n",
      "\n",
      "                                                   url  \\\n",
      "0    https://www.quora.com/Can-AI-marketing-tools-b...   \n",
      "1    https://www.quora.com/How-can-AI-prompts-impro...   \n",
      "2    https://www.quora.com/What-are-emerging-career...   \n",
      "3    https://www.quora.com/What-are-the-latest-tren...   \n",
      "4    https://www.quora.com/How-can-businesses-stay-...   \n",
      "..                                                 ...   \n",
      "145    https://www.quora.com/profile/Ejike-John-Anumba   \n",
      "146  https://www.quora.com/What-is-the-cost-of-auto...   \n",
      "147  https://www.quora.com/How-can-you-explain-emai...   \n",
      "148  https://www.quora.com/How-can-I-make-nonprofit...   \n",
      "149  https://ar.quora.com/%D9%85%D8%A7%D9%87%D9%8A-...   \n",
      "\n",
      "                                                 title  \n",
      "0    Can AI marketing tools benefit me, even with l...  \n",
      "1     How can AI prompts improve marketing strategies?  \n",
      "2    What are emerging career roles in AI-driven di...  \n",
      "3    What are the latest trends in performance mark...  \n",
      "4    How can businesses stay ahead in digital marke...  \n",
      "..                                                 ...  \n",
      "145                                  Ejike John Anumba  \n",
      "146    What is the cost of automation email marketing?  \n",
      "147  How to explain email marketing? How can we sen...  \n",
      "148  How to make nonprofit direct mail campaigns mo...  \n",
      "149                                                NaN  \n",
      "\n",
      "[150 rows x 3 columns]>\n"
     ]
    }
   ],
   "source": [
    "\n",
    "#Importing datasets from local machines\n",
    "\n",
    "file_list = [r\"C:\\Users\\priya\\OneDrive\\Desktop\\Project\\dataset_quora-email_2025-06-10_15-49-46-158.csv\",\n",
    "            r\"C:\\Users\\priya\\OneDrive\\Desktop\\Project\\dataset_quora-email_2025-06-10_21-12-50-032.csv\",\n",
    "            r\"C:\\Users\\priya\\OneDrive\\Desktop\\Project\\dataset_quora-email_2025-06-10_21-20-42-684.csv\"]\n",
    "\n",
    "dataset_list = []     #creating one list for all datasets\n",
    "\n",
    "for file in file_list:\n",
    "    df = pd.read_csv(file)\n",
    "    dataset_list.append(df)\n",
    "#print(df)\n",
    "\n",
    "\n",
    "combine_data = pd.concat(dataset_list, ignore_index =  True)    #merging dataset in one list.\n",
    "\n",
    "print(combine_data.head())  #shows first five line in the output\n",
    "print(combine_data.shape)   #shows number of rows and column \n",
    "print(combine_data.info)    #shows properties of dataframe\n",
    "    \n",
    "\n",
    "\n"
   ]
  },
  {
   "cell_type": "code",
   "execution_count": 11,
   "id": "222a5db6-78e0-4ef3-8b7a-c5e17d3c7f9b",
   "metadata": {},
   "outputs": [],
   "source": [
    "\n",
    "#Converting all data into lowercase\n",
    "# combine_data = combine_data.astype(str).apply(lambda x: x.str.lower())   #where x tends to every column and astype means converting data into strings \n",
    "\n",
    "# print(combine_data.head())\n",
    "\n",
    "\n",
    "# combine_data['title_lower'] = combine_data['title'].astype(str).apply(lambda x: x.lower())\n",
    "# print(combine_data[['title', 'title_lower']].head())\n"
   ]
  },
  {
   "cell_type": "code",
   "execution_count": 12,
   "id": "4a274420-ab5e-4b19-9711-de5c2acf33b4",
   "metadata": {},
   "outputs": [
    {
     "name": "stdout",
     "output_type": "stream",
     "text": [
      "                                               title  \\\n",
      "0  Can AI marketing tools benefit me, even with l...   \n",
      "1   How can AI prompts improve marketing strategies?   \n",
      "2  What are emerging career roles in AI-driven di...   \n",
      "3  What are the latest trends in performance mark...   \n",
      "4  How can businesses stay ahead in digital marke...   \n",
      "\n",
      "                                       title_cleaned  \n",
      "0  can ai marketing tools benefit me even with li...  \n",
      "1    how can ai prompts improve marketing strategies  \n",
      "2  what are emerging career roles in aidriven dig...  \n",
      "3  what are the latest trends in performance mark...  \n",
      "4  how can businesses stay ahead in digital marke...  \n"
     ]
    }
   ],
   "source": [
    "#removing special characters and symbols\n",
    "\n",
    "\n",
    "#df['title'] = df['title'].apply(lambda x: re.sub(r'[^a-zA-Z0-9\\s]', '', x) if isinstance(x, str) else x)\n",
    "\n",
    "#combine_data['title'] = combine_data['title'].apply(lambda x: re.sub(r'[a-z0-9\\s]', '', x) if isinstance(x, str) else x)\n",
    "\n",
    "\n",
    "def clean_data(text):\n",
    "    if pd.isnull(text):\n",
    "        return ' '  \n",
    "    text = str(text)  # convert to string, in case it's not     \n",
    "    text = text.lower()    \n",
    "    text = text.encode(\"ascii\", \"ignore\").decode()\n",
    "    text=re.sub(r'[^a-z0-9\\s]', '',text)\n",
    "    text = re.sub(r'\\s+', ' ', text).strip()\n",
    "    return text\n",
    "    \n",
    "combine_data['title_cleaned']=combine_data['title'].apply(clean_data)\n",
    "\n",
    "combine_data['keyword_cleaned']=combine_data['keyword'].apply(clean_data)\n",
    "\n",
    "\n",
    "print(combine_data[['title','title_cleaned']].head())\n",
    "\n",
    "\n"
   ]
  },
  {
   "cell_type": "code",
   "execution_count": 13,
   "id": "cd1584a9-7810-42b5-86ad-07fc70bd323a",
   "metadata": {},
   "outputs": [],
   "source": [
    "# Removing extra and unwanted space.\n",
    "\n",
    "# def remove_extra_space(text):\n",
    "#     text = re.sub(r'\\s+', ' ', text).strip()\n",
    "#     return text\n",
    "# def remove_extra_space(text):\n",
    "#     if pd.isnull(text):\n",
    "#         return ''  # handle missing values\n",
    "#     text = text.lower()       \n",
    "#     text = str(text)  # convert to string, in case it's not\n",
    "#     text = re.sub(r'\\s+', ' ', text).strip()\n",
    "#     return text\n",
    "    \n",
    "# combine_data['space_removed'] = combine_data['title'].apply(remove_extra_space)\n",
    "\n",
    "# print(combine_data[['title','space_removed']].head())\n",
    "\n"
   ]
  },
  {
   "cell_type": "code",
   "execution_count": 14,
   "id": "bebfb195-8532-4239-8ada-b98f8795e96d",
   "metadata": {},
   "outputs": [
    {
     "name": "stdout",
     "output_type": "stream",
     "text": [
      "                                               title  \\\n",
      "0  Can AI marketing tools benefit me, even with l...   \n",
      "1   How can AI prompts improve marketing strategies?   \n",
      "2  What are emerging career roles in AI-driven di...   \n",
      "3  What are the latest trends in performance mark...   \n",
      "4  How can businesses stay ahead in digital marke...   \n",
      "\n",
      "                                 stopwords_removed  \n",
      "0  ai marketing tools benefit me, even limited ...  \n",
      "1         ai prompts improve marketing strategies?  \n",
      "2      emerging career roles ai-driven digital ...  \n",
      "3          latest trends performance marketing ...  \n",
      "4  businesses stay ahead digital marketing trends?  \n"
     ]
    },
    {
     "name": "stderr",
     "output_type": "stream",
     "text": [
      "[nltk_data] Downloading package stopwords to\n",
      "[nltk_data]     C:\\Users\\priya\\AppData\\Roaming\\nltk_data...\n",
      "[nltk_data]   Package stopwords is already up-to-date!\n"
     ]
    }
   ],
   "source": [
    "# #removing Stopwords\n",
    "nltk.download('stopwords')\n",
    "stop_words = set(stopwords.words('english'))\n",
    "\n",
    "\n",
    "def remove_stopwords(text):\n",
    "    if pd.isnull(text):\n",
    "        return ''\n",
    "    text = text.lower()       \n",
    "    words = text.split()\n",
    "    filtered = [word for word in words if word.lower() not in stop_words]\n",
    "    return ' '.join(filtered)\n",
    "    \n",
    "combine_data['stopwords_removed'] = combine_data['title'].apply(remove_stopwords)\n",
    "print(combine_data[['title','stopwords_removed']].head())\n",
    "\n",
    "df.to_csv('clean02_data.csv', index=False)"
   ]
  },
  {
   "cell_type": "code",
   "execution_count": null,
   "id": "b699f22e-6b32-48a4-be78-84417979a4a5",
   "metadata": {},
   "outputs": [],
   "source": []
  },
  {
   "cell_type": "code",
   "execution_count": 15,
   "id": "8398f559-6a85-4c35-8f51-349bd9315d36",
   "metadata": {},
   "outputs": [
    {
     "name": "stdout",
     "output_type": "stream",
     "text": [
      "                                               title  is_valid_question\n",
      "0  Can AI marketing tools benefit me, even with l...              False\n",
      "1   How can AI prompts improve marketing strategies?               True\n",
      "2  What are emerging career roles in AI-driven di...               True\n",
      "3  What are the latest trends in performance mark...               True\n",
      "4  How can businesses stay ahead in digital marke...               True\n"
     ]
    }
   ],
   "source": [
    "# Ensure all entries are valid questions:Ends with ? or starts with a WH-word (\"What\", \"How\", \"Why\"...)\n",
    "wh_words = ['what', 'how', 'why', 'who', 'when', 'where', 'which', 'whom', 'whose']\n",
    "\n",
    "def is_valid_question(text):\n",
    "    if pd.isnull(text):\n",
    "        return False\n",
    "    text = text.strip().lower()\n",
    "    return text.endswith('?') or any(text.startswith(wh) for wh in wh_words)\n",
    "\n",
    "combine_data['is_valid_question'] = combine_data['title'].astype(str).apply(is_valid_question)\n",
    "\n",
    "# Preview the result\n",
    "print(combine_data[['title', 'is_valid_question']].head())\n"
   ]
  },
  {
   "cell_type": "code",
   "execution_count": 16,
   "id": "0ff0bc5b-6113-4fdc-87b4-56f532bfa7bf",
   "metadata": {},
   "outputs": [
    {
     "name": "stdout",
     "output_type": "stream",
     "text": [
      "                                       title_cleaned  keyword_cleaned\n",
      "0  can ai marketing tools benefit me even with li...  ai in marketing\n",
      "1    how can ai prompts improve marketing strategies  ai in marketing\n",
      "2  what are emerging career roles in aidriven dig...  ai in marketing\n",
      "3  what are the latest trends in performance mark...  ai in marketing\n",
      "4  how can businesses stay ahead in digital marke...  ai in marketing\n"
     ]
    }
   ],
   "source": [
    "#Removing duplication data from datasets\n",
    "\n",
    "combine_data = combine_data.drop_duplicates(subset=['title_cleaned', 'keyword_cleaned'], keep='first')\n",
    "print(combine_data[['title_cleaned', 'keyword_cleaned']].head())"
   ]
  },
  {
   "cell_type": "code",
   "execution_count": 17,
   "id": "4092ff81-6222-426c-991b-57fbf0b17de6",
   "metadata": {},
   "outputs": [],
   "source": [
    "combine_data.to_csv('clean11_data.csv', index=False)"
   ]
  },
  {
   "cell_type": "code",
   "execution_count": null,
   "id": "629bfa04-52e7-464b-9ebe-d6230062c78c",
   "metadata": {},
   "outputs": [],
   "source": []
  },
  {
   "cell_type": "code",
   "execution_count": null,
   "id": "e4c5f707-63f1-4886-9797-d94a9bed13c1",
   "metadata": {},
   "outputs": [],
   "source": []
  }
 ],
 "metadata": {
  "kernelspec": {
   "display_name": "Python 3 (ipykernel)",
   "language": "python",
   "name": "python3"
  },
  "language_info": {
   "codemirror_mode": {
    "name": "ipython",
    "version": 3
   },
   "file_extension": ".py",
   "mimetype": "text/x-python",
   "name": "python",
   "nbconvert_exporter": "python",
   "pygments_lexer": "ipython3",
   "version": "3.13.5"
  }
 },
 "nbformat": 4,
 "nbformat_minor": 5
}
